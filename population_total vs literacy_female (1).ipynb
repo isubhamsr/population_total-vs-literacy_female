{
 "cells": [
  {
   "cell_type": "code",
   "execution_count": 1,
   "metadata": {},
   "outputs": [],
   "source": [
    "import pandas as pd\n",
    "import matplotlib.pyplot as plt\n",
    "import seaborn as sns\n",
    "from sklearn import linear_model"
   ]
  },
  {
   "cell_type": "code",
   "execution_count": 2,
   "metadata": {},
   "outputs": [
    {
     "data": {
      "text/html": [
       "<div>\n",
       "<style scoped>\n",
       "    .dataframe tbody tr th:only-of-type {\n",
       "        vertical-align: middle;\n",
       "    }\n",
       "\n",
       "    .dataframe tbody tr th {\n",
       "        vertical-align: top;\n",
       "    }\n",
       "\n",
       "    .dataframe thead th {\n",
       "        text-align: right;\n",
       "    }\n",
       "</style>\n",
       "<table border=\"1\" class=\"dataframe\">\n",
       "  <thead>\n",
       "    <tr style=\"text-align: right;\">\n",
       "      <th></th>\n",
       "      <th>name_of_city</th>\n",
       "      <th>state_code</th>\n",
       "      <th>state_name</th>\n",
       "      <th>dist_code</th>\n",
       "      <th>population_total</th>\n",
       "      <th>population_male</th>\n",
       "      <th>population_female</th>\n",
       "      <th>0-6_population_total</th>\n",
       "      <th>0-6_population_male</th>\n",
       "      <th>0-6_population_female</th>\n",
       "      <th>...</th>\n",
       "      <th>literates_female</th>\n",
       "      <th>sex_ratio</th>\n",
       "      <th>child_sex_ratio</th>\n",
       "      <th>effective_literacy_rate_total</th>\n",
       "      <th>effective_literacy_rate_male</th>\n",
       "      <th>effective_literacy_rate_female</th>\n",
       "      <th>location</th>\n",
       "      <th>total_graduates</th>\n",
       "      <th>male_graduates</th>\n",
       "      <th>female_graduates</th>\n",
       "    </tr>\n",
       "  </thead>\n",
       "  <tbody>\n",
       "    <tr>\n",
       "      <th>0</th>\n",
       "      <td>Asansol</td>\n",
       "      <td>19</td>\n",
       "      <td>WEST BENGAL</td>\n",
       "      <td>9</td>\n",
       "      <td>564491</td>\n",
       "      <td>293748</td>\n",
       "      <td>270743</td>\n",
       "      <td>56014</td>\n",
       "      <td>29363</td>\n",
       "      <td>26651</td>\n",
       "      <td>...</td>\n",
       "      <td>194617</td>\n",
       "      <td>922</td>\n",
       "      <td>908</td>\n",
       "      <td>84.82</td>\n",
       "      <td>89.52</td>\n",
       "      <td>79.73</td>\n",
       "      <td>23.6739452,86.9523954</td>\n",
       "      <td>65625</td>\n",
       "      <td>40231</td>\n",
       "      <td>25394</td>\n",
       "    </tr>\n",
       "    <tr>\n",
       "      <th>1</th>\n",
       "      <td>Ashoknagar Kalyangarh</td>\n",
       "      <td>19</td>\n",
       "      <td>WEST BENGAL</td>\n",
       "      <td>11</td>\n",
       "      <td>123906</td>\n",
       "      <td>62554</td>\n",
       "      <td>61352</td>\n",
       "      <td>8885</td>\n",
       "      <td>4564</td>\n",
       "      <td>4321</td>\n",
       "      <td>...</td>\n",
       "      <td>50939</td>\n",
       "      <td>981</td>\n",
       "      <td>947</td>\n",
       "      <td>92.45</td>\n",
       "      <td>95.53</td>\n",
       "      <td>89.32</td>\n",
       "      <td>22.84039,88.6241351</td>\n",
       "      <td>11992</td>\n",
       "      <td>7093</td>\n",
       "      <td>4899</td>\n",
       "    </tr>\n",
       "    <tr>\n",
       "      <th>2</th>\n",
       "      <td>Baharampur</td>\n",
       "      <td>19</td>\n",
       "      <td>WEST BENGAL</td>\n",
       "      <td>7</td>\n",
       "      <td>195363</td>\n",
       "      <td>100431</td>\n",
       "      <td>94932</td>\n",
       "      <td>13228</td>\n",
       "      <td>6741</td>\n",
       "      <td>6487</td>\n",
       "      <td>...</td>\n",
       "      <td>77910</td>\n",
       "      <td>945</td>\n",
       "      <td>962</td>\n",
       "      <td>90.29</td>\n",
       "      <td>92.36</td>\n",
       "      <td>88.09</td>\n",
       "      <td>24.0988265,88.2679264</td>\n",
       "      <td>32154</td>\n",
       "      <td>19679</td>\n",
       "      <td>12475</td>\n",
       "    </tr>\n",
       "    <tr>\n",
       "      <th>3</th>\n",
       "      <td>Baidyabati</td>\n",
       "      <td>19</td>\n",
       "      <td>WEST BENGAL</td>\n",
       "      <td>12</td>\n",
       "      <td>121081</td>\n",
       "      <td>62550</td>\n",
       "      <td>58531</td>\n",
       "      <td>8154</td>\n",
       "      <td>4164</td>\n",
       "      <td>3990</td>\n",
       "      <td>...</td>\n",
       "      <td>47373</td>\n",
       "      <td>936</td>\n",
       "      <td>958</td>\n",
       "      <td>89.08</td>\n",
       "      <td>91.15</td>\n",
       "      <td>86.86</td>\n",
       "      <td>22.795783,88.3190717</td>\n",
       "      <td>17224</td>\n",
       "      <td>10311</td>\n",
       "      <td>6913</td>\n",
       "    </tr>\n",
       "    <tr>\n",
       "      <th>4</th>\n",
       "      <td>Bally</td>\n",
       "      <td>19</td>\n",
       "      <td>WEST BENGAL</td>\n",
       "      <td>15</td>\n",
       "      <td>291972</td>\n",
       "      <td>156734</td>\n",
       "      <td>135238</td>\n",
       "      <td>31859</td>\n",
       "      <td>14583</td>\n",
       "      <td>17276</td>\n",
       "      <td>...</td>\n",
       "      <td>97394</td>\n",
       "      <td>863</td>\n",
       "      <td>1185</td>\n",
       "      <td>83.39</td>\n",
       "      <td>84.07</td>\n",
       "      <td>82.56</td>\n",
       "      <td>22.6500518,88.3423199</td>\n",
       "      <td>36100</td>\n",
       "      <td>22170</td>\n",
       "      <td>13930</td>\n",
       "    </tr>\n",
       "  </tbody>\n",
       "</table>\n",
       "<p>5 rows × 22 columns</p>\n",
       "</div>"
      ],
      "text/plain": [
       "             name_of_city  state_code   state_name  dist_code  \\\n",
       "0                Asansol           19  WEST BENGAL          9   \n",
       "1  Ashoknagar Kalyangarh           19  WEST BENGAL         11   \n",
       "2             Baharampur           19  WEST BENGAL          7   \n",
       "3             Baidyabati           19  WEST BENGAL         12   \n",
       "4                  Bally           19  WEST BENGAL         15   \n",
       "\n",
       "   population_total  population_male  population_female  0-6_population_total  \\\n",
       "0            564491           293748             270743                 56014   \n",
       "1            123906            62554              61352                  8885   \n",
       "2            195363           100431              94932                 13228   \n",
       "3            121081            62550              58531                  8154   \n",
       "4            291972           156734             135238                 31859   \n",
       "\n",
       "   0-6_population_male  0-6_population_female        ...         \\\n",
       "0                29363                  26651        ...          \n",
       "1                 4564                   4321        ...          \n",
       "2                 6741                   6487        ...          \n",
       "3                 4164                   3990        ...          \n",
       "4                14583                  17276        ...          \n",
       "\n",
       "   literates_female  sex_ratio  child_sex_ratio  \\\n",
       "0            194617        922              908   \n",
       "1             50939        981              947   \n",
       "2             77910        945              962   \n",
       "3             47373        936              958   \n",
       "4             97394        863             1185   \n",
       "\n",
       "   effective_literacy_rate_total  effective_literacy_rate_male  \\\n",
       "0                          84.82                         89.52   \n",
       "1                          92.45                         95.53   \n",
       "2                          90.29                         92.36   \n",
       "3                          89.08                         91.15   \n",
       "4                          83.39                         84.07   \n",
       "\n",
       "   effective_literacy_rate_female               location  total_graduates  \\\n",
       "0                           79.73  23.6739452,86.9523954            65625   \n",
       "1                           89.32    22.84039,88.6241351            11992   \n",
       "2                           88.09  24.0988265,88.2679264            32154   \n",
       "3                           86.86   22.795783,88.3190717            17224   \n",
       "4                           82.56  22.6500518,88.3423199            36100   \n",
       "\n",
       "  male_graduates  female_graduates  \n",
       "0          40231             25394  \n",
       "1           7093              4899  \n",
       "2          19679             12475  \n",
       "3          10311              6913  \n",
       "4          22170             13930  \n",
       "\n",
       "[5 rows x 22 columns]"
      ]
     },
     "execution_count": 2,
     "metadata": {},
     "output_type": "execute_result"
    }
   ],
   "source": [
    "data = pd.read_csv('west-bengal.csv')\n",
    "data.head()"
   ]
  },
  {
   "cell_type": "code",
   "execution_count": 14,
   "metadata": {},
   "outputs": [
    {
     "data": {
      "text/html": [
       "<div>\n",
       "<style scoped>\n",
       "    .dataframe tbody tr th:only-of-type {\n",
       "        vertical-align: middle;\n",
       "    }\n",
       "\n",
       "    .dataframe tbody tr th {\n",
       "        vertical-align: top;\n",
       "    }\n",
       "\n",
       "    .dataframe thead th {\n",
       "        text-align: right;\n",
       "    }\n",
       "</style>\n",
       "<table border=\"1\" class=\"dataframe\">\n",
       "  <thead>\n",
       "    <tr style=\"text-align: right;\">\n",
       "      <th></th>\n",
       "      <th>population_total</th>\n",
       "      <th>literates_female</th>\n",
       "    </tr>\n",
       "  </thead>\n",
       "  <tbody>\n",
       "    <tr>\n",
       "      <th>0</th>\n",
       "      <td>564491</td>\n",
       "      <td>194617</td>\n",
       "    </tr>\n",
       "    <tr>\n",
       "      <th>1</th>\n",
       "      <td>123906</td>\n",
       "      <td>50939</td>\n",
       "    </tr>\n",
       "    <tr>\n",
       "      <th>2</th>\n",
       "      <td>195363</td>\n",
       "      <td>77910</td>\n",
       "    </tr>\n",
       "    <tr>\n",
       "      <th>3</th>\n",
       "      <td>121081</td>\n",
       "      <td>47373</td>\n",
       "    </tr>\n",
       "    <tr>\n",
       "      <th>4</th>\n",
       "      <td>291972</td>\n",
       "      <td>97394</td>\n",
       "    </tr>\n",
       "  </tbody>\n",
       "</table>\n",
       "</div>"
      ],
      "text/plain": [
       "   population_total  literates_female\n",
       "0            564491            194617\n",
       "1            123906             50939\n",
       "2            195363             77910\n",
       "3            121081             47373\n",
       "4            291972             97394"
      ]
     },
     "execution_count": 14,
     "metadata": {},
     "output_type": "execute_result"
    }
   ],
   "source": [
    "wb = data[['population_total','literates_female']]\n",
    "wb.head()"
   ]
  },
  {
   "cell_type": "code",
   "execution_count": 4,
   "metadata": {},
   "outputs": [
    {
     "data": {
      "image/png": "[encoded data removed]",
      "text/plain": [
       "<Figure size 432x288 with 1 Axes>"
      ]
     },
     "metadata": {},
     "output_type": "display_data"
    }
   ],
   "source": [
    "plt.scatter(data.population_total,data.literates_female,color='blue')\n",
    "plt.show()"
   ]
  },
  {
   "cell_type": "code",
   "execution_count": 5,
   "metadata": {},
   "outputs": [
    {
     "name": "stderr",
     "output_type": "stream",
     "text": [
      "c:\\users\\user\\appdata\\local\\programs\\python\\python36-32\\lib\\site-packages\\seaborn\\axisgrid.py:2065: UserWarning: The `size` parameter has been renamed to `height`; pleaes update your code.\n",
      "  warnings.warn(msg, UserWarning)\n"
     ]
    },
    {
     "data": {
      "text/plain": [
       "<seaborn.axisgrid.PairGrid at 0xb709c90>"
      ]
     },
     "execution_count": 5,
     "metadata": {},
     "output_type": "execute_result"
    },
    {
     "data": {
      "image/png": "[encoded data removed]",
      "text/plain": [
       "<Figure size 352.8x504 with 1 Axes>"
      ]
     },
     "metadata": {},
     "output_type": "display_data"
    }
   ],
   "source": [
    "sns.pairplot(data,x_vars='population_total',y_vars='literates_female',size=7,aspect=0.7,kind='reg')"
   ]
  },
  {
   "cell_type": "code",
   "execution_count": 6,
   "metadata": {},
   "outputs": [],
   "source": [
    "reg = linear_model.LinearRegression()"
   ]
  },
  {
   "cell_type": "code",
   "execution_count": 7,
   "metadata": {},
   "outputs": [
    {
     "data": {
      "text/plain": [
       "LinearRegression(copy_X=True, fit_intercept=True, n_jobs=1, normalize=False)"
      ]
     },
     "execution_count": 7,
     "metadata": {},
     "output_type": "execute_result"
    }
   ],
   "source": [
    "reg.fit(wb[['population_total']],wb.literates_female)"
   ]
  },
  {
   "cell_type": "code",
   "execution_count": 8,
   "metadata": {},
   "outputs": [
    {
     "data": {
      "text/plain": [
       "array([1237409.87011302])"
      ]
     },
     "execution_count": 8,
     "metadata": {},
     "output_type": "execute_result"
    }
   ],
   "source": [
    "p = reg.predict([[3300000]])\n",
    "p"
   ]
  },
  {
   "cell_type": "code",
   "execution_count": 9,
   "metadata": {},
   "outputs": [
    {
     "name": "stdout",
     "output_type": "stream",
     "text": [
      "[0.3749207]\n",
      "171.5492059096141\n"
     ]
    }
   ],
   "source": [
    "print(reg.coef_)\n",
    "print(reg.intercept_)"
   ]
  },
  {
   "cell_type": "code",
   "execution_count": 10,
   "metadata": {},
   "outputs": [
    {
     "data": {
      "text/html": [
       "<div>\n",
       "<style scoped>\n",
       "    .dataframe tbody tr th:only-of-type {\n",
       "        vertical-align: middle;\n",
       "    }\n",
       "\n",
       "    .dataframe tbody tr th {\n",
       "        vertical-align: top;\n",
       "    }\n",
       "\n",
       "    .dataframe thead th {\n",
       "        text-align: right;\n",
       "    }\n",
       "</style>\n",
       "<table border=\"1\" class=\"dataframe\">\n",
       "  <thead>\n",
       "    <tr style=\"text-align: right;\">\n",
       "      <th></th>\n",
       "      <th>population_total</th>\n",
       "    </tr>\n",
       "  </thead>\n",
       "  <tbody>\n",
       "    <tr>\n",
       "      <th>0</th>\n",
       "      <td>293501</td>\n",
       "    </tr>\n",
       "    <tr>\n",
       "      <th>1</th>\n",
       "      <td>163000</td>\n",
       "    </tr>\n",
       "    <tr>\n",
       "      <th>2</th>\n",
       "      <td>288908</td>\n",
       "    </tr>\n",
       "    <tr>\n",
       "      <th>3</th>\n",
       "      <td>389008</td>\n",
       "    </tr>\n",
       "    <tr>\n",
       "      <th>4</th>\n",
       "      <td>122000</td>\n",
       "    </tr>\n",
       "    <tr>\n",
       "      <th>5</th>\n",
       "      <td>485300</td>\n",
       "    </tr>\n",
       "    <tr>\n",
       "      <th>6</th>\n",
       "      <td>353400</td>\n",
       "    </tr>\n",
       "    <tr>\n",
       "      <th>7</th>\n",
       "      <td>565600</td>\n",
       "    </tr>\n",
       "  </tbody>\n",
       "</table>\n",
       "</div>"
      ],
      "text/plain": [
       "   population_total\n",
       "0            293501\n",
       "1            163000\n",
       "2            288908\n",
       "3            389008\n",
       "4            122000\n",
       "5            485300\n",
       "6            353400\n",
       "7            565600"
      ]
     },
     "execution_count": 10,
     "metadata": {},
     "output_type": "execute_result"
    }
   ],
   "source": [
    "df = pd.DataFrame({\n",
    "    'population_total':[293501,163000,288908,389008,122000,485300,353400,565600]\n",
    "})\n",
    "df"
   ]
  },
  {
   "cell_type": "code",
   "execution_count": 11,
   "metadata": {},
   "outputs": [
    {
     "data": {
      "text/plain": [
       "array([110211.15054668,  61283.62384465, 108489.1397564 , 146018.70215725,\n",
       "        45911.87500914, 182120.56651992, 132668.52575396, 212226.69899532])"
      ]
     },
     "execution_count": 11,
     "metadata": {},
     "output_type": "execute_result"
    }
   ],
   "source": [
    "p = reg.predict(df)\n",
    "p"
   ]
  },
  {
   "cell_type": "code",
   "execution_count": 12,
   "metadata": {},
   "outputs": [
    {
     "data": {
      "text/html": [
       "<div>\n",
       "<style scoped>\n",
       "    .dataframe tbody tr th:only-of-type {\n",
       "        vertical-align: middle;\n",
       "    }\n",
       "\n",
       "    .dataframe tbody tr th {\n",
       "        vertical-align: top;\n",
       "    }\n",
       "\n",
       "    .dataframe thead th {\n",
       "        text-align: right;\n",
       "    }\n",
       "</style>\n",
       "<table border=\"1\" class=\"dataframe\">\n",
       "  <thead>\n",
       "    <tr style=\"text-align: right;\">\n",
       "      <th></th>\n",
       "      <th>population_total</th>\n",
       "      <th>literates_female</th>\n",
       "    </tr>\n",
       "  </thead>\n",
       "  <tbody>\n",
       "    <tr>\n",
       "      <th>0</th>\n",
       "      <td>293501</td>\n",
       "      <td>110211.150547</td>\n",
       "    </tr>\n",
       "    <tr>\n",
       "      <th>1</th>\n",
       "      <td>163000</td>\n",
       "      <td>61283.623845</td>\n",
       "    </tr>\n",
       "    <tr>\n",
       "      <th>2</th>\n",
       "      <td>288908</td>\n",
       "      <td>108489.139756</td>\n",
       "    </tr>\n",
       "    <tr>\n",
       "      <th>3</th>\n",
       "      <td>389008</td>\n",
       "      <td>146018.702157</td>\n",
       "    </tr>\n",
       "    <tr>\n",
       "      <th>4</th>\n",
       "      <td>122000</td>\n",
       "      <td>45911.875009</td>\n",
       "    </tr>\n",
       "    <tr>\n",
       "      <th>5</th>\n",
       "      <td>485300</td>\n",
       "      <td>182120.566520</td>\n",
       "    </tr>\n",
       "    <tr>\n",
       "      <th>6</th>\n",
       "      <td>353400</td>\n",
       "      <td>132668.525754</td>\n",
       "    </tr>\n",
       "    <tr>\n",
       "      <th>7</th>\n",
       "      <td>565600</td>\n",
       "      <td>212226.698995</td>\n",
       "    </tr>\n",
       "  </tbody>\n",
       "</table>\n",
       "</div>"
      ],
      "text/plain": [
       "   population_total  literates_female\n",
       "0            293501     110211.150547\n",
       "1            163000      61283.623845\n",
       "2            288908     108489.139756\n",
       "3            389008     146018.702157\n",
       "4            122000      45911.875009\n",
       "5            485300     182120.566520\n",
       "6            353400     132668.525754\n",
       "7            565600     212226.698995"
      ]
     },
     "execution_count": 12,
     "metadata": {},
     "output_type": "execute_result"
    }
   ],
   "source": [
    "df['literates_female']=p\n",
    "df"
   ]
  },
  {
   "cell_type": "code",
   "execution_count": 13,
   "metadata": {},
   "outputs": [
    {
     "data": {
      "text/plain": [
       "<seaborn.axisgrid.PairGrid at 0xb8548d0>"
      ]
     },
     "execution_count": 13,
     "metadata": {},
     "output_type": "execute_result"
    },
    {
     "data": {
      "image/png": "[encoded data removed]",
      "text/plain": [
       "<Figure size 352.8x504 with 1 Axes>"
      ]
     },
     "metadata": {},
     "output_type": "display_data"
    }
   ],
   "source": [
    "sns.pairplot(df,x_vars='population_total',y_vars='literates_female',height=7,aspect=0.7,kind='reg')"
   ]
  }
 ],
 "metadata": {
  "kernelspec": {
   "display_name": "Python 3",
   "language": "python",
   "name": "python3"
  },
  "language_info": {
   "codemirror_mode": {
    "name": "ipython",
    "version": 3
   },
   "file_extension": ".py",
   "mimetype": "text/x-python",
   "name": "python",
   "nbconvert_exporter": "python",
   "pygments_lexer": "ipython3",
   "version": "3.6.5"
  }
 },
 "nbformat": 4,
 "nbformat_minor": 2
}
